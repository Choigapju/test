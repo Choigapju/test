{
  "nbformat": 4,
  "nbformat_minor": 0,
  "metadata": {
    "colab": {
      "name": "Untitled0.ipynb",
      "provenance": [],
      "authorship_tag": "ABX9TyPAZuD0QlQ2HQqWEVxLzBDX",
      "include_colab_link": true
    },
    "kernelspec": {
      "name": "python3",
      "display_name": "Python 3"
    }
  },
  "cells": [
    {
      "cell_type": "markdown",
      "metadata": {
        "id": "view-in-github",
        "colab_type": "text"
      },
      "source": [
        "<a href=\"https://colab.research.google.com/github/Choigapju/test/blob/master/%EC%9D%B8%EA%B3%B5%EC%A7%80%EB%8A%A5%201%EC%A3%BC%EC%B0%A8%20%EA%B3%BC%EC%A0%9C.ipynb\" target=\"_parent\"><img src=\"https://colab.research.google.com/assets/colab-badge.svg\" alt=\"Open In Colab\"/></a>"
      ]
    },
    {
      "cell_type": "markdown",
      "metadata": {
        "id": "RZienJ4Uz2DH",
        "colab_type": "text"
      },
      "source": [
        "# 인공지능 1주차 과제\n",
        "##  언어, 음성, 이미지, 자율주행 속의 인공지능 제품 or 서비스 분석\n",
        "\n",
        "1. 언어 분야\n",
        "* [언어 분야](http://www.aitimes.kr/news/articleView.html?idxno=12760, \"MIT\")\n",
        "* MIT의 연구자들이 컴퓨터의 기능을 크게 확장할 수 있는 아이들의 언어 습득 과정을 더 자세히 모방하기 위해 관찰을 통해 학습하는'의미론적 파서(semantic parsers)'를 개발했다. 이 연구 내용은 지난달 31일부터 11월 4일(현지시각) 까지 벨기에 브루셀에서 개최되는 '자연어 처리의 경험적 방법(2018 Conference on Empirical Methods in Natural Language Processing) 컨퍼런스에서 발표된다.\n",
        "* 인공지능 분야에서 제일 관심 많은 분야가 바로 언어분야이다. 컴퓨터와 인간이 자연스럽게 상호작용하는 '대화'를 할 수 있다는 것은 상당히 흥미로운 부분이다. 현재 나와있는 인공지능 시스템들을 보면 사전에 학습된 내용만을 듣고 말할 뿐 새로운 정보는 추가로 입력해 주지 않으면 알아 먹지 못하는 모습을 보인다. 스스로 대화를 통해 학습하고 인간과 상호작용을 하는 인공지능을 만들 수 있다면 매우 흥미로울 것 같다.\n",
        "\n",
        "\n",
        "2. 음성 분야\n",
        "* [음성 분야](https://www.itfind.or.kr/WZIN/jugidong/1741/file8953897943089069054-174102.pdf, \"언어-음성분야 학술자료\")\n",
        "*위 링크는 언어-음성분야 학술자료이다. 내용에 따르면 애플사에서는 음성인식 인공지능 비서 시리를 통한 자연어 대화 기술을 스마트폰에 최초로 탑재하였다고 나와있다.\n",
        "\n",
        "3. 이미지 분야\n",
        "* [이미지 분야](https://d2.naver.com/helloworld/8344782, \"네이버 이미지 인식\")\n",
        "* 특정 이미지에서 필요한 부분들을 특정해 내어 분류할 수 있는 방법들이 제시되어 있는데 이미지 속에서 내가 특정하고 싶은 부분들을 찝어 낼 수 있는게 좋은 거 같다.\n",
        "\n",
        "4. 자율주행 분야\n",
        "*[자율주행 분야](https://news.samsung.com/kr/%EC%9E%90%EC%9C%A8%EC%A3%BC%ED%96%89-%EC%9E%90%EB%8F%99%EC%B0%A8-%EB%94%A5%EB%9F%AC%EB%8B%9D%EC%9C%BC%EB%A1%9C-%EC%8B%9C%EB%8F%99-%EA%B1%B4%EB%8B%A4, \"삼성 자율주행 자동차\")\n",
        "* 딥러닝을 통해 자율주행 자동차 시동을 걸고, '엔드투엔드 자율주행'으로 운전의 전과정을 딥러닝을 통해 학습하여 새로운 운행 환경에 대해 추가 기능이 필요할 때 마다 인지.판단.제어 알고리즘을 다시 설계하거나 변경하지 않고, 새로운 상황에 대한 데이터를 추가적으로 학습함으로써 자율주행 시스템을 구현할 수 있다.\n",
        "\n",
        "\n",
        "\n",
        "### 인공지능 사관학교 코스들을 잘 학습하여 최종 이수하는 날에는 충분히 실용적인 대화형 인공지능을 만들어 보고 싶다. 프리코스부터 차근차근 열심히 학습하여 확실한 결과를 이루기 위해 노력하겠다."
      ]
    }
  ]
}